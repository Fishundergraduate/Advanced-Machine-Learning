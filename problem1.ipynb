{
 "cells": [
  {
   "cell_type": "code",
   "execution_count": 26,
   "metadata": {},
   "outputs": [],
   "source": [
    "import numpy as np\n",
    "\n",
    "n = 200\n",
    "d = 4\n",
    "x = 3 * (np.random.rand(n, d) - 0.5)\n",
    "y = (2 * x[:,0] - 1 * x[:,1] + 0.5 + 0.5 * np.random.randn(n, 1)) > 0\n",
    "p = (2 * x[:,0]) - (1 * x[:,1]) + 0.5 + (0.5 * np.random.randn(n, 1))\n",
    "y = 2 * y -1"
   ]
  }
 ],
 "metadata": {
  "language_info": {
   "name": "python"
  },
  "orig_nbformat": 4
 },
 "nbformat": 4,
 "nbformat_minor": 2
}
